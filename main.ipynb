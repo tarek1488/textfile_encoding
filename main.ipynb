{
 "cells": [
  {
   "cell_type": "markdown",
   "metadata": {},
   "source": [
    "<center><b style=\"font-size:24px;\">Information Theory Project(1) part-1</b></center>\n"
   ]
  },
  {
   "cell_type": "code",
   "execution_count": 45,
   "metadata": {},
   "outputs": [],
   "source": [
    "import numpy as np\n",
    "import pandas as pd"
   ]
  },
  {
   "cell_type": "code",
   "execution_count": 135,
   "metadata": {},
   "outputs": [],
   "source": [
    "class Cell:\n",
    "    def __init__(self, symbol, frequency , left = None, right = None):\n",
    "        self.symbol = symbol\n",
    "        self.frequency = frequency\n",
    "        self.code = ''\n",
    "        self.huffman_code = ''\n",
    "        self.left = left\n",
    "        self.right = right\n",
    "\n",
    "    def __repr__(self):\n",
    "        return f'symbol ({self.symbol}) ----- frequency {self.frequency}'\n",
    "\n",
    "    def __radd__(self, other):\n",
    "        return other + self.frequency\n",
    "    \n",
    "    def __lt__(self, other):\n",
    "        return self.frequency < other.frequency"
   ]
  },
  {
   "cell_type": "code",
   "execution_count": 136,
   "metadata": {},
   "outputs": [],
   "source": [
    "#sorting function\n",
    "def sort_cells(arr):\n",
    "    for i in range(len(arr)):\n",
    "        for j in range(i + 1 , len(arr)):\n",
    "            if arr[i].frequency <= arr[j].frequency:\n",
    "                temp = arr[j]\n",
    "                arr[j] = arr[i]\n",
    "                arr[i] = temp\n",
    "    return arr"
   ]
  },
  {
   "cell_type": "code",
   "execution_count": 265,
   "metadata": {},
   "outputs": [],
   "source": [
    "with open('Test_text_file.txt', 'r') as F:\n",
    "    text = F.read()"
   ]
  },
  {
   "cell_type": "code",
   "execution_count": 138,
   "metadata": {},
   "outputs": [],
   "source": [
    "#total number of characters\n",
    "characters ='abcdefghijklmnopqrstuvwxyz().,/- '\n",
    "total =  len(text)\n",
    "alphabet_dict_count = {char: 0 for char in characters }"
   ]
  },
  {
   "cell_type": "code",
   "execution_count": 139,
   "metadata": {},
   "outputs": [
    {
     "name": "stdout",
     "output_type": "stream",
     "text": [
      "{'a': 0, 'b': 0, 'c': 0, 'd': 0, 'e': 0, 'f': 0, 'g': 0, 'h': 0, 'i': 0, 'j': 0, 'k': 0, 'l': 0, 'm': 0, 'n': 0, 'o': 0, 'p': 0, 'q': 0, 'r': 0, 's': 0, 't': 0, 'u': 0, 'v': 0, 'w': 0, 'x': 0, 'y': 0, 'z': 0, '(': 0, ')': 0, '.': 0, ',': 0, '/': 0, '-': 0, ' ': 0}\n"
     ]
    }
   ],
   "source": [
    "print(alphabet_dict_count)"
   ]
  },
  {
   "cell_type": "markdown",
   "metadata": {},
   "source": [
    "**Probabilities calculations**"
   ]
  },
  {
   "cell_type": "code",
   "execution_count": 140,
   "metadata": {},
   "outputs": [],
   "source": [
    "for char in text:\n",
    "    alphabet_dict_count[char] +=1"
   ]
  },
  {
   "cell_type": "code",
   "execution_count": 141,
   "metadata": {},
   "outputs": [
    {
     "name": "stdout",
     "output_type": "stream",
     "text": [
      "33\n"
     ]
    }
   ],
   "source": [
    "print(len(alphabet_dict_count))"
   ]
  },
  {
   "cell_type": "code",
   "execution_count": 142,
   "metadata": {},
   "outputs": [
    {
     "name": "stdout",
     "output_type": "stream",
     "text": [
      "{'a': 101, 'b': 17, 'c': 37, 'd': 64, 'e': 146, 'f': 19, 'g': 20, 'h': 31, 'i': 85, 'j': 1, 'k': 1, 'l': 59, 'm': 30, 'n': 90, 'o': 88, 'p': 52, 'q': 1, 'r': 84, 's': 79, 't': 101, 'u': 26, 'v': 13, 'w': 11, 'x': 7, 'y': 9, 'z': 3, '(': 3, ')': 3, '.': 6, ',': 11, '/': 1, '-': 16, ' ': 189}\n"
     ]
    }
   ],
   "source": [
    "print(alphabet_dict_count)"
   ]
  },
  {
   "cell_type": "code",
   "execution_count": 208,
   "metadata": {},
   "outputs": [],
   "source": [
    "symbols_data = pd.DataFrame(alphabet_dict_count.items(), columns=['symbol' , 'frequency'])"
   ]
  },
  {
   "cell_type": "code",
   "execution_count": 209,
   "metadata": {},
   "outputs": [],
   "source": [
    "symbols_data['probability'] = symbols_data['frequency'] / len(text)"
   ]
  },
  {
   "cell_type": "code",
   "execution_count": 210,
   "metadata": {},
   "outputs": [
    {
     "name": "stdout",
     "output_type": "stream",
     "text": [
      "0.9999999999999998\n"
     ]
    }
   ],
   "source": [
    "summation = 0\n",
    "for prob in symbols_data['probability']:\n",
    "    summation += prob\n",
    "print(summation)"
   ]
  },
  {
   "cell_type": "code",
   "execution_count": 211,
   "metadata": {},
   "outputs": [],
   "source": [
    "symbols_data['fixed-code'] = None\n",
    "symbols_data['huffman-code'] = None\n",
    "symbols_data['shanon-fano-code'] = None"
   ]
  },
  {
   "cell_type": "code",
   "execution_count": 212,
   "metadata": {},
   "outputs": [
    {
     "data": {
      "text/html": [
       "<div>\n",
       "<style scoped>\n",
       "    .dataframe tbody tr th:only-of-type {\n",
       "        vertical-align: middle;\n",
       "    }\n",
       "\n",
       "    .dataframe tbody tr th {\n",
       "        vertical-align: top;\n",
       "    }\n",
       "\n",
       "    .dataframe thead th {\n",
       "        text-align: right;\n",
       "    }\n",
       "</style>\n",
       "<table border=\"1\" class=\"dataframe\">\n",
       "  <thead>\n",
       "    <tr style=\"text-align: right;\">\n",
       "      <th></th>\n",
       "      <th>symbol</th>\n",
       "      <th>frequency</th>\n",
       "      <th>probability</th>\n",
       "      <th>fixed-code</th>\n",
       "      <th>huffman-code</th>\n",
       "      <th>shanon-fano-code</th>\n",
       "    </tr>\n",
       "  </thead>\n",
       "  <tbody>\n",
       "    <tr>\n",
       "      <th>0</th>\n",
       "      <td>a</td>\n",
       "      <td>101</td>\n",
       "      <td>0.071937</td>\n",
       "      <td>None</td>\n",
       "      <td>None</td>\n",
       "      <td>None</td>\n",
       "    </tr>\n",
       "    <tr>\n",
       "      <th>1</th>\n",
       "      <td>b</td>\n",
       "      <td>17</td>\n",
       "      <td>0.012108</td>\n",
       "      <td>None</td>\n",
       "      <td>None</td>\n",
       "      <td>None</td>\n",
       "    </tr>\n",
       "    <tr>\n",
       "      <th>2</th>\n",
       "      <td>c</td>\n",
       "      <td>37</td>\n",
       "      <td>0.026353</td>\n",
       "      <td>None</td>\n",
       "      <td>None</td>\n",
       "      <td>None</td>\n",
       "    </tr>\n",
       "    <tr>\n",
       "      <th>3</th>\n",
       "      <td>d</td>\n",
       "      <td>64</td>\n",
       "      <td>0.045584</td>\n",
       "      <td>None</td>\n",
       "      <td>None</td>\n",
       "      <td>None</td>\n",
       "    </tr>\n",
       "    <tr>\n",
       "      <th>4</th>\n",
       "      <td>e</td>\n",
       "      <td>146</td>\n",
       "      <td>0.103989</td>\n",
       "      <td>None</td>\n",
       "      <td>None</td>\n",
       "      <td>None</td>\n",
       "    </tr>\n",
       "  </tbody>\n",
       "</table>\n",
       "</div>"
      ],
      "text/plain": [
       "  symbol  frequency  probability fixed-code huffman-code shanon-fano-code\n",
       "0      a        101     0.071937       None         None             None\n",
       "1      b         17     0.012108       None         None             None\n",
       "2      c         37     0.026353       None         None             None\n",
       "3      d         64     0.045584       None         None             None\n",
       "4      e        146     0.103989       None         None             None"
      ]
     },
     "execution_count": 212,
     "metadata": {},
     "output_type": "execute_result"
    }
   ],
   "source": [
    "symbols_data.head()"
   ]
  },
  {
   "cell_type": "markdown",
   "metadata": {},
   "source": [
    "**Entropy calculations**"
   ]
  },
  {
   "cell_type": "code",
   "execution_count": 213,
   "metadata": {},
   "outputs": [],
   "source": [
    "import math as m\n",
    "entropy = 0\n",
    "for prob in symbols_data['probability']:\n",
    "    entropy += prob * m.log(1/prob,2)\n"
   ]
  },
  {
   "cell_type": "code",
   "execution_count": 214,
   "metadata": {},
   "outputs": [
    {
     "name": "stdout",
     "output_type": "stream",
     "text": [
      "The entropy H(s) = 4.26\n"
     ]
    }
   ],
   "source": [
    "print(f'The entropy H(s) = {round(entropy,2)}')"
   ]
  },
  {
   "cell_type": "markdown",
   "metadata": {},
   "source": [
    "# Fixed length code"
   ]
  },
  {
   "cell_type": "code",
   "execution_count": 215,
   "metadata": {},
   "outputs": [
    {
     "name": "stdout",
     "output_type": "stream",
     "text": [
      "The needed number of bits for fixed code is : 6\n"
     ]
    }
   ],
   "source": [
    "number_of_bits = m.ceil(m.log(33,2))\n",
    "print(f'The needed number of bits for fixed code is : {number_of_bits}')"
   ]
  },
  {
   "cell_type": "code",
   "execution_count": 216,
   "metadata": {},
   "outputs": [],
   "source": [
    "# Function to convert decimal 2 a binary number\n",
    "def decimal2binary(num, length):\n",
    "    binary = \"\"\n",
    "    while num > 0:\n",
    "        binary += str(num % 2)\n",
    "        num  = num // 2\n",
    "    if len(binary) < length:\n",
    "        for i in range(length - len(binary)):\n",
    "            binary += '0' \n",
    "    return binary[::-1 ]\n",
    "        \n"
   ]
  },
  {
   "cell_type": "code",
   "execution_count": 217,
   "metadata": {},
   "outputs": [
    {
     "data": {
      "text/plain": [
       "'000000'"
      ]
     },
     "execution_count": 217,
     "metadata": {},
     "output_type": "execute_result"
    }
   ],
   "source": [
    "decimal2binary(0,6)"
   ]
  },
  {
   "cell_type": "markdown",
   "metadata": {},
   "source": [
    "**Encoder**"
   ]
  },
  {
   "cell_type": "code",
   "execution_count": 218,
   "metadata": {},
   "outputs": [],
   "source": [
    "fixed_codes = {}\n",
    "for i in range(len(characters)):\n",
    "    #fixed_codes[characters[i]] = decimal2binary(i,6)\n",
    "    symbols_data.loc[symbols_data['symbol'] == characters[i], 'fixed-code'] = decimal2binary(i,6)"
   ]
  },
  {
   "cell_type": "code",
   "execution_count": 219,
   "metadata": {},
   "outputs": [
    {
     "data": {
      "text/html": [
       "<div>\n",
       "<style scoped>\n",
       "    .dataframe tbody tr th:only-of-type {\n",
       "        vertical-align: middle;\n",
       "    }\n",
       "\n",
       "    .dataframe tbody tr th {\n",
       "        vertical-align: top;\n",
       "    }\n",
       "\n",
       "    .dataframe thead th {\n",
       "        text-align: right;\n",
       "    }\n",
       "</style>\n",
       "<table border=\"1\" class=\"dataframe\">\n",
       "  <thead>\n",
       "    <tr style=\"text-align: right;\">\n",
       "      <th></th>\n",
       "      <th>symbol</th>\n",
       "      <th>frequency</th>\n",
       "      <th>probability</th>\n",
       "      <th>fixed-code</th>\n",
       "      <th>huffman-code</th>\n",
       "      <th>shanon-fano-code</th>\n",
       "    </tr>\n",
       "  </thead>\n",
       "  <tbody>\n",
       "    <tr>\n",
       "      <th>0</th>\n",
       "      <td>a</td>\n",
       "      <td>101</td>\n",
       "      <td>0.071937</td>\n",
       "      <td>000000</td>\n",
       "      <td>None</td>\n",
       "      <td>None</td>\n",
       "    </tr>\n",
       "    <tr>\n",
       "      <th>1</th>\n",
       "      <td>b</td>\n",
       "      <td>17</td>\n",
       "      <td>0.012108</td>\n",
       "      <td>000001</td>\n",
       "      <td>None</td>\n",
       "      <td>None</td>\n",
       "    </tr>\n",
       "    <tr>\n",
       "      <th>2</th>\n",
       "      <td>c</td>\n",
       "      <td>37</td>\n",
       "      <td>0.026353</td>\n",
       "      <td>000010</td>\n",
       "      <td>None</td>\n",
       "      <td>None</td>\n",
       "    </tr>\n",
       "    <tr>\n",
       "      <th>3</th>\n",
       "      <td>d</td>\n",
       "      <td>64</td>\n",
       "      <td>0.045584</td>\n",
       "      <td>000011</td>\n",
       "      <td>None</td>\n",
       "      <td>None</td>\n",
       "    </tr>\n",
       "    <tr>\n",
       "      <th>4</th>\n",
       "      <td>e</td>\n",
       "      <td>146</td>\n",
       "      <td>0.103989</td>\n",
       "      <td>000100</td>\n",
       "      <td>None</td>\n",
       "      <td>None</td>\n",
       "    </tr>\n",
       "  </tbody>\n",
       "</table>\n",
       "</div>"
      ],
      "text/plain": [
       "  symbol  frequency  probability fixed-code huffman-code shanon-fano-code\n",
       "0      a        101     0.071937     000000         None             None\n",
       "1      b         17     0.012108     000001         None             None\n",
       "2      c         37     0.026353     000010         None             None\n",
       "3      d         64     0.045584     000011         None             None\n",
       "4      e        146     0.103989     000100         None             None"
      ]
     },
     "execution_count": 219,
     "metadata": {},
     "output_type": "execute_result"
    }
   ],
   "source": [
    "symbols_data.head()"
   ]
  },
  {
   "cell_type": "markdown",
   "metadata": {},
   "source": [
    "**Fixed code efficiency**"
   ]
  },
  {
   "cell_type": "code",
   "execution_count": 220,
   "metadata": {},
   "outputs": [
    {
     "name": "stdout",
     "output_type": "stream",
     "text": [
      "the effciency of fixed code method is: 70.95\n"
     ]
    }
   ],
   "source": [
    "fixed_code_eff = (entropy / 6) * 100\n",
    "print(f\"the effciency of fixed code method is: {round(fixed_code_eff,2)}\")"
   ]
  },
  {
   "cell_type": "markdown",
   "metadata": {},
   "source": [
    "# Huffman code"
   ]
  },
  {
   "cell_type": "code",
   "execution_count": 221,
   "metadata": {},
   "outputs": [
    {
     "name": "stdout",
     "output_type": "stream",
     "text": [
      "[symbol (a) ----- frequency 101, symbol (b) ----- frequency 17, symbol (c) ----- frequency 37, symbol (d) ----- frequency 64, symbol (e) ----- frequency 146, symbol (f) ----- frequency 19, symbol (g) ----- frequency 20, symbol (h) ----- frequency 31, symbol (i) ----- frequency 85, symbol (j) ----- frequency 1, symbol (k) ----- frequency 1, symbol (l) ----- frequency 59, symbol (m) ----- frequency 30, symbol (n) ----- frequency 90, symbol (o) ----- frequency 88, symbol (p) ----- frequency 52, symbol (q) ----- frequency 1, symbol (r) ----- frequency 84, symbol (s) ----- frequency 79, symbol (t) ----- frequency 101, symbol (u) ----- frequency 26, symbol (v) ----- frequency 13, symbol (w) ----- frequency 11, symbol (x) ----- frequency 7, symbol (y) ----- frequency 9, symbol (z) ----- frequency 3, symbol (() ----- frequency 3, symbol ()) ----- frequency 3, symbol (.) ----- frequency 6, symbol (,) ----- frequency 11, symbol (/) ----- frequency 1, symbol (-) ----- frequency 16, symbol ( ) ----- frequency 189]\n"
     ]
    }
   ],
   "source": [
    "huffman_cells =  [Cell(symbol, frequency) for symbol, frequency in alphabet_dict_count.items()]\n",
    "print(huffman_cells)"
   ]
  },
  {
   "cell_type": "code",
   "execution_count": 222,
   "metadata": {},
   "outputs": [
    {
     "name": "stdout",
     "output_type": "stream",
     "text": [
      "[symbol ( ) ----- frequency 189, symbol (e) ----- frequency 146, symbol (t) ----- frequency 101, symbol (a) ----- frequency 101, symbol (n) ----- frequency 90, symbol (o) ----- frequency 88, symbol (i) ----- frequency 85, symbol (r) ----- frequency 84, symbol (s) ----- frequency 79, symbol (d) ----- frequency 64, symbol (l) ----- frequency 59, symbol (p) ----- frequency 52, symbol (c) ----- frequency 37, symbol (h) ----- frequency 31, symbol (m) ----- frequency 30, symbol (u) ----- frequency 26, symbol (g) ----- frequency 20, symbol (f) ----- frequency 19, symbol (b) ----- frequency 17, symbol (-) ----- frequency 16, symbol (v) ----- frequency 13, symbol (,) ----- frequency 11, symbol (w) ----- frequency 11, symbol (y) ----- frequency 9, symbol (x) ----- frequency 7, symbol (.) ----- frequency 6, symbol ()) ----- frequency 3, symbol (() ----- frequency 3, symbol (z) ----- frequency 3, symbol (/) ----- frequency 1, symbol (q) ----- frequency 1, symbol (k) ----- frequency 1, symbol (j) ----- frequency 1]\n"
     ]
    }
   ],
   "source": [
    "huffman_cells = sort_cells(huffman_cells)\n",
    "print(huffman_cells)"
   ]
  },
  {
   "cell_type": "markdown",
   "metadata": {},
   "source": [
    "**Encoding symbols**"
   ]
  },
  {
   "cell_type": "code",
   "execution_count": 223,
   "metadata": {},
   "outputs": [],
   "source": [
    "import heapq as h\n",
    "h.heapify(huffman_cells)"
   ]
  },
  {
   "cell_type": "code",
   "execution_count": 224,
   "metadata": {},
   "outputs": [],
   "source": [
    "while len(huffman_cells) != 1:\n",
    "    left_cell = h.heappop(huffman_cells)\n",
    "    right_cell = h.heappop(huffman_cells)\n",
    "    \n",
    "    left_cell.huffman_code += \"0\"\n",
    "    right_cell.huffman_code += \"1\"\n",
    "    \n",
    "    nNode = Cell(left_cell.symbol + right_cell.symbol, left_cell.frequency + right_cell.frequency, left_cell, right_cell) \n",
    "    h.heappush(huffman_cells, nNode)"
   ]
  },
  {
   "cell_type": "code",
   "execution_count": 225,
   "metadata": {},
   "outputs": [],
   "source": [
    "def save_codes(node, val=''): \n",
    "  \n",
    "    # huffman code for current node \n",
    "    newVal = val + str(node.huffman_code) \n",
    "  \n",
    "    # if node is not an edge node \n",
    "    # then traverse inside it \n",
    "    if(node.left): \n",
    "        save_codes(node.left, newVal) \n",
    "    if(node.right): \n",
    "        save_codes(node.right, newVal) \n",
    "  \n",
    "        # if node is edge node then \n",
    "        # display its huffman code \n",
    "    if(not node.left and not node.right): \n",
    "        symbols_data.loc[symbols_data['symbol'] == node.symbol , 'huffman-code'] = newVal\n",
    "save_codes(huffman_cells[0])"
   ]
  },
  {
   "cell_type": "code",
   "execution_count": 226,
   "metadata": {},
   "outputs": [
    {
     "data": {
      "text/html": [
       "<div>\n",
       "<style scoped>\n",
       "    .dataframe tbody tr th:only-of-type {\n",
       "        vertical-align: middle;\n",
       "    }\n",
       "\n",
       "    .dataframe tbody tr th {\n",
       "        vertical-align: top;\n",
       "    }\n",
       "\n",
       "    .dataframe thead th {\n",
       "        text-align: right;\n",
       "    }\n",
       "</style>\n",
       "<table border=\"1\" class=\"dataframe\">\n",
       "  <thead>\n",
       "    <tr style=\"text-align: right;\">\n",
       "      <th></th>\n",
       "      <th>symbol</th>\n",
       "      <th>frequency</th>\n",
       "      <th>probability</th>\n",
       "      <th>fixed-code</th>\n",
       "      <th>huffman-code</th>\n",
       "      <th>shanon-fano-code</th>\n",
       "    </tr>\n",
       "  </thead>\n",
       "  <tbody>\n",
       "    <tr>\n",
       "      <th>0</th>\n",
       "      <td>a</td>\n",
       "      <td>101</td>\n",
       "      <td>0.071937</td>\n",
       "      <td>000000</td>\n",
       "      <td>1101</td>\n",
       "      <td>None</td>\n",
       "    </tr>\n",
       "    <tr>\n",
       "      <th>1</th>\n",
       "      <td>b</td>\n",
       "      <td>17</td>\n",
       "      <td>0.012108</td>\n",
       "      <td>000001</td>\n",
       "      <td>000101</td>\n",
       "      <td>None</td>\n",
       "    </tr>\n",
       "    <tr>\n",
       "      <th>2</th>\n",
       "      <td>c</td>\n",
       "      <td>37</td>\n",
       "      <td>0.026353</td>\n",
       "      <td>000010</td>\n",
       "      <td>00011</td>\n",
       "      <td>None</td>\n",
       "    </tr>\n",
       "    <tr>\n",
       "      <th>3</th>\n",
       "      <td>d</td>\n",
       "      <td>64</td>\n",
       "      <td>0.045584</td>\n",
       "      <td>000011</td>\n",
       "      <td>0000</td>\n",
       "      <td>None</td>\n",
       "    </tr>\n",
       "    <tr>\n",
       "      <th>4</th>\n",
       "      <td>e</td>\n",
       "      <td>146</td>\n",
       "      <td>0.103989</td>\n",
       "      <td>000100</td>\n",
       "      <td>001</td>\n",
       "      <td>None</td>\n",
       "    </tr>\n",
       "  </tbody>\n",
       "</table>\n",
       "</div>"
      ],
      "text/plain": [
       "  symbol  frequency  probability fixed-code huffman-code shanon-fano-code\n",
       "0      a        101     0.071937     000000         1101             None\n",
       "1      b         17     0.012108     000001       000101             None\n",
       "2      c         37     0.026353     000010        00011             None\n",
       "3      d         64     0.045584     000011         0000             None\n",
       "4      e        146     0.103989     000100          001             None"
      ]
     },
     "execution_count": 226,
     "metadata": {},
     "output_type": "execute_result"
    }
   ],
   "source": [
    "symbols_data.head()"
   ]
  },
  {
   "cell_type": "code",
   "execution_count": 227,
   "metadata": {},
   "outputs": [
    {
     "name": "stdout",
     "output_type": "stream",
     "text": [
      "The average code length for huffman code is 4.28\n"
     ]
    }
   ],
   "source": [
    "l_avg_huffman = 0\n",
    "for i in range(len(symbols_data)):\n",
    "    l_avg_huffman += len(symbols_data.iloc[i]['huffman-code']) * symbols_data.iloc[i]['probability']\n",
    "print(f'The average code length for huffman code is {round(l_avg_huffman,2)}')"
   ]
  },
  {
   "cell_type": "code",
   "execution_count": 228,
   "metadata": {},
   "outputs": [
    {
     "name": "stdout",
     "output_type": "stream",
     "text": [
      "the efficency of huffman code is 99.55\n"
     ]
    }
   ],
   "source": [
    "print(f'the efficency of huffman code is {round((entropy/l_avg_huffman)*100,2)}')"
   ]
  },
  {
   "cell_type": "markdown",
   "metadata": {},
   "source": [
    "**Coding the whole text file**"
   ]
  },
  {
   "cell_type": "code",
   "execution_count": 231,
   "metadata": {},
   "outputs": [],
   "source": [
    "huffman_file_code = ''\n",
    "for char in text:\n",
    "    char_code = symbols_data.loc[symbols_data['symbol'] == char, 'huffman-code'].item()\n",
    "    huffman_file_code += char_code\n",
    "with open('huffman_code.txt', 'w') as f:\n",
    "    f.write(huffman_file_code)"
   ]
  },
  {
   "cell_type": "code",
   "execution_count": 264,
   "metadata": {},
   "outputs": [
    {
     "name": "stdout",
     "output_type": "stream",
     "text": [
      "in this paper, a novel decorrelation-based concurrent digital predistortion (dpd) solution is proposed for dual-band transmitters (tx) employing a single wideband power amplifier (pa), and utilizing just a single feedback receiver path. the proposed decorrelation-based parameter learning solution is both flexible and simple, and operates in a closed-loop manner, opposed to the widely applied indirect learning architecture. the proposed decorrelation-based learning and dpd processing can also be effectively applied to more ordinary single-band transmissions, as well as generalized to more than two transmit bands. through a comprehensive analysis covering both the dpd parameter learning and the main path processing, it is shown that the complexity of the proposed concurrent dpd is substantially lower compared with the other state-of-the-art concurrent dpd methods. extensive set of quantitative simulation and rf measurement results are also presented, using a base-station pa as well as a commercial lte-advanced mobile pa, to evaluate and validate the effectiveness of the proposed dpd solution in various real world scenarios, incorporating single-band/dual-band tx cases. the simulation and rf measurement results demonstrate excellent linearization performance of the proposed concurrent dpd, even outperforming current state-of-the-art methods, despite the significantly lower complexity.\n"
     ]
    }
   ],
   "source": [
    "huffman_text = ''\n",
    "code = ''\n",
    "with open('huffman_code.txt', 'r') as f:\n",
    "    huffman_txt_code = f.read() \n",
    "for bit in huffman_txt_code:\n",
    "    code += bit\n",
    "    if code in symbols_data['huffman-code'].values:\n",
    "         symbol =  symbols_data.loc[symbols_data['huffman-code'] == code]['symbol'].item()\n",
    "         huffman_text += symbol\n",
    "         code = ''\n",
    "print(huffman_text)"
   ]
  },
  {
   "cell_type": "markdown",
   "metadata": {},
   "source": [
    "# Shanon-Fano code"
   ]
  },
  {
   "cell_type": "code",
   "execution_count": 233,
   "metadata": {},
   "outputs": [
    {
     "name": "stdout",
     "output_type": "stream",
     "text": [
      "{'a': '', 'b': '', 'c': '', 'd': '', 'e': '', 'f': '', 'g': '', 'h': '', 'i': '', 'j': '', 'k': '', 'l': '', 'm': '', 'n': '', 'o': '', 'p': '', 'q': '', 'r': '', 's': '', 't': '', 'u': '', 'v': '', 'w': '', 'x': '', 'y': '', 'z': '', '(': '', ')': '', '.': '', ',': '', '/': '', '-': '', ' ': ''}\n"
     ]
    }
   ],
   "source": [
    "shanon_codes = {char : \"\" for char in characters}\n",
    "print(shanon_codes)"
   ]
  },
  {
   "cell_type": "markdown",
   "metadata": {},
   "source": [
    "**Encoder**"
   ]
  },
  {
   "cell_type": "code",
   "execution_count": 234,
   "metadata": {},
   "outputs": [
    {
     "name": "stdout",
     "output_type": "stream",
     "text": [
      "symbol (A) ----- frequency 0.5\n"
     ]
    }
   ],
   "source": [
    "c1 = Cell('A', 0.5)\n",
    "print(c1)"
   ]
  },
  {
   "cell_type": "code",
   "execution_count": 235,
   "metadata": {},
   "outputs": [
    {
     "name": "stdout",
     "output_type": "stream",
     "text": [
      "[symbol (a) ----- frequency 101, symbol (b) ----- frequency 17, symbol (c) ----- frequency 37, symbol (d) ----- frequency 64, symbol (e) ----- frequency 146, symbol (f) ----- frequency 19, symbol (g) ----- frequency 20, symbol (h) ----- frequency 31, symbol (i) ----- frequency 85, symbol (j) ----- frequency 1, symbol (k) ----- frequency 1, symbol (l) ----- frequency 59, symbol (m) ----- frequency 30, symbol (n) ----- frequency 90, symbol (o) ----- frequency 88, symbol (p) ----- frequency 52, symbol (q) ----- frequency 1, symbol (r) ----- frequency 84, symbol (s) ----- frequency 79, symbol (t) ----- frequency 101, symbol (u) ----- frequency 26, symbol (v) ----- frequency 13, symbol (w) ----- frequency 11, symbol (x) ----- frequency 7, symbol (y) ----- frequency 9, symbol (z) ----- frequency 3, symbol (() ----- frequency 3, symbol ()) ----- frequency 3, symbol (.) ----- frequency 6, symbol (,) ----- frequency 11, symbol (/) ----- frequency 1, symbol (-) ----- frequency 16, symbol ( ) ----- frequency 189]\n"
     ]
    }
   ],
   "source": [
    "shanon_cells = [Cell(char,frequency) for char , frequency in alphabet_dict_count.items()]\n",
    "print(shanon_cells) "
   ]
  },
  {
   "cell_type": "code",
   "execution_count": 237,
   "metadata": {},
   "outputs": [],
   "source": [
    "#sorting the symbols according to probabilties \n",
    "shanon_cells = sort_cells(shanon_cells)"
   ]
  },
  {
   "cell_type": "code",
   "execution_count": 238,
   "metadata": {},
   "outputs": [
    {
     "name": "stdout",
     "output_type": "stream",
     "text": [
      "[symbol ( ) ----- frequency 189, symbol (e) ----- frequency 146, symbol (a) ----- frequency 101, symbol (t) ----- frequency 101, symbol (n) ----- frequency 90, symbol (o) ----- frequency 88, symbol (i) ----- frequency 85, symbol (r) ----- frequency 84, symbol (s) ----- frequency 79, symbol (d) ----- frequency 64, symbol (l) ----- frequency 59, symbol (p) ----- frequency 52, symbol (c) ----- frequency 37, symbol (h) ----- frequency 31, symbol (m) ----- frequency 30, symbol (u) ----- frequency 26, symbol (g) ----- frequency 20, symbol (f) ----- frequency 19, symbol (b) ----- frequency 17, symbol (-) ----- frequency 16, symbol (v) ----- frequency 13, symbol (w) ----- frequency 11, symbol (,) ----- frequency 11, symbol (y) ----- frequency 9, symbol (x) ----- frequency 7, symbol (.) ----- frequency 6, symbol (z) ----- frequency 3, symbol (() ----- frequency 3, symbol ()) ----- frequency 3, symbol (j) ----- frequency 1, symbol (k) ----- frequency 1, symbol (q) ----- frequency 1, symbol (/) ----- frequency 1]\n"
     ]
    }
   ],
   "source": [
    "print(shanon_cells)"
   ]
  },
  {
   "cell_type": "code",
   "execution_count": 239,
   "metadata": {},
   "outputs": [],
   "source": [
    "def shanon_encoder(cells):\n",
    "    if len(cells) <= 1:\n",
    "        return\n",
    "    total_frequency = sum(cells)\n",
    "    half_frequency = total_frequency / 2\n",
    "    cumulative_frequency = 0\n",
    "    split_index = -1\n",
    "    min_difference = 9999999999999999999999999999999999999\n",
    "    for i, freq in enumerate(cell.frequency for cell in cells):\n",
    "        cumulative_frequency += freq\n",
    "        difference = abs(cumulative_frequency - half_frequency)\n",
    "\n",
    "        if difference < min_difference:\n",
    "            min_difference = difference\n",
    "            split_index = i\n",
    "    left_cells = cells[ : split_index + 1]\n",
    "    right_cells = cells[split_index + 1 : ]\n",
    "    for cell in left_cells:\n",
    "        cell.code += '0'\n",
    "    for cell in right_cells:\n",
    "        cell.code += '1'\n",
    "    \n",
    "    shanon_encoder(left_cells)\n",
    "    shanon_encoder(right_cells)"
   ]
  },
  {
   "cell_type": "code",
   "execution_count": 240,
   "metadata": {},
   "outputs": [],
   "source": [
    "shanon_encoder(shanon_cells)"
   ]
  },
  {
   "cell_type": "code",
   "execution_count": 241,
   "metadata": {},
   "outputs": [],
   "source": [
    "for cell in shanon_cells:\n",
    "    symbols_data.loc[symbols_data['symbol'] == cell.symbol, 'shanon-fano-code'] = cell.code"
   ]
  },
  {
   "cell_type": "code",
   "execution_count": 243,
   "metadata": {},
   "outputs": [],
   "source": [
    "symbols_data.sort_values(by='frequency', ascending=False , inplace= True)"
   ]
  },
  {
   "cell_type": "code",
   "execution_count": 244,
   "metadata": {},
   "outputs": [],
   "source": [
    "symbols_data = symbols_data.reset_index(drop=True)"
   ]
  },
  {
   "cell_type": "code",
   "execution_count": 245,
   "metadata": {},
   "outputs": [
    {
     "data": {
      "text/html": [
       "<div>\n",
       "<style scoped>\n",
       "    .dataframe tbody tr th:only-of-type {\n",
       "        vertical-align: middle;\n",
       "    }\n",
       "\n",
       "    .dataframe tbody tr th {\n",
       "        vertical-align: top;\n",
       "    }\n",
       "\n",
       "    .dataframe thead th {\n",
       "        text-align: right;\n",
       "    }\n",
       "</style>\n",
       "<table border=\"1\" class=\"dataframe\">\n",
       "  <thead>\n",
       "    <tr style=\"text-align: right;\">\n",
       "      <th></th>\n",
       "      <th>symbol</th>\n",
       "      <th>frequency</th>\n",
       "      <th>probability</th>\n",
       "      <th>fixed-code</th>\n",
       "      <th>huffman-code</th>\n",
       "      <th>shanon-fano-code</th>\n",
       "    </tr>\n",
       "  </thead>\n",
       "  <tbody>\n",
       "    <tr>\n",
       "      <th>0</th>\n",
       "      <td></td>\n",
       "      <td>189</td>\n",
       "      <td>0.134615</td>\n",
       "      <td>100000</td>\n",
       "      <td>101</td>\n",
       "      <td>000</td>\n",
       "    </tr>\n",
       "    <tr>\n",
       "      <th>1</th>\n",
       "      <td>e</td>\n",
       "      <td>146</td>\n",
       "      <td>0.103989</td>\n",
       "      <td>000100</td>\n",
       "      <td>001</td>\n",
       "      <td>001</td>\n",
       "    </tr>\n",
       "    <tr>\n",
       "      <th>2</th>\n",
       "      <td>a</td>\n",
       "      <td>101</td>\n",
       "      <td>0.071937</td>\n",
       "      <td>000000</td>\n",
       "      <td>1101</td>\n",
       "      <td>0100</td>\n",
       "    </tr>\n",
       "    <tr>\n",
       "      <th>3</th>\n",
       "      <td>t</td>\n",
       "      <td>101</td>\n",
       "      <td>0.071937</td>\n",
       "      <td>010011</td>\n",
       "      <td>1100</td>\n",
       "      <td>0101</td>\n",
       "    </tr>\n",
       "    <tr>\n",
       "      <th>4</th>\n",
       "      <td>n</td>\n",
       "      <td>90</td>\n",
       "      <td>0.064103</td>\n",
       "      <td>001101</td>\n",
       "      <td>1001</td>\n",
       "      <td>0110</td>\n",
       "    </tr>\n",
       "  </tbody>\n",
       "</table>\n",
       "</div>"
      ],
      "text/plain": [
       "  symbol  frequency  probability fixed-code huffman-code shanon-fano-code\n",
       "0               189     0.134615     100000          101              000\n",
       "1      e        146     0.103989     000100          001              001\n",
       "2      a        101     0.071937     000000         1101             0100\n",
       "3      t        101     0.071937     010011         1100             0101\n",
       "4      n         90     0.064103     001101         1001             0110"
      ]
     },
     "execution_count": 245,
     "metadata": {},
     "output_type": "execute_result"
    }
   ],
   "source": [
    "symbols_data.head()"
   ]
  },
  {
   "cell_type": "code",
   "execution_count": 246,
   "metadata": {},
   "outputs": [
    {
     "name": "stdout",
     "output_type": "stream",
     "text": [
      "the average code length for shanon fano code is 4.278490028490028\n",
      "the effciency of shanon fano encoder is 99.5\n"
     ]
    }
   ],
   "source": [
    "l_avg_shannon = 0\n",
    "for i in range(len(symbols_data)):\n",
    "    l_avg_shannon += symbols_data['probability'].iloc[i] * len(symbols_data['shanon-fano-code'].iloc[i])\n",
    "print(f'the average code length for shanon fano code is {l_avg_shannon}')\n",
    "print(f'the effciency of shanon fano encoder is {round((entropy / l_avg_shannon)*100,2)}')"
   ]
  },
  {
   "cell_type": "code",
   "execution_count": 263,
   "metadata": {},
   "outputs": [
    {
     "data": {
      "text/html": [
       "<div>\n",
       "<style scoped>\n",
       "    .dataframe tbody tr th:only-of-type {\n",
       "        vertical-align: middle;\n",
       "    }\n",
       "\n",
       "    .dataframe tbody tr th {\n",
       "        vertical-align: top;\n",
       "    }\n",
       "\n",
       "    .dataframe thead th {\n",
       "        text-align: right;\n",
       "    }\n",
       "</style>\n",
       "<table border=\"1\" class=\"dataframe\">\n",
       "  <thead>\n",
       "    <tr style=\"text-align: right;\">\n",
       "      <th></th>\n",
       "      <th>symbol</th>\n",
       "      <th>frequency</th>\n",
       "      <th>probability</th>\n",
       "      <th>fixed-code</th>\n",
       "      <th>huffman-code</th>\n",
       "      <th>shanon-fano-code</th>\n",
       "    </tr>\n",
       "  </thead>\n",
       "  <tbody>\n",
       "    <tr>\n",
       "      <th>0</th>\n",
       "      <td></td>\n",
       "      <td>189</td>\n",
       "      <td>0.134615</td>\n",
       "      <td>100000</td>\n",
       "      <td>101</td>\n",
       "      <td>000</td>\n",
       "    </tr>\n",
       "    <tr>\n",
       "      <th>1</th>\n",
       "      <td>e</td>\n",
       "      <td>146</td>\n",
       "      <td>0.103989</td>\n",
       "      <td>000100</td>\n",
       "      <td>001</td>\n",
       "      <td>001</td>\n",
       "    </tr>\n",
       "    <tr>\n",
       "      <th>2</th>\n",
       "      <td>a</td>\n",
       "      <td>101</td>\n",
       "      <td>0.071937</td>\n",
       "      <td>000000</td>\n",
       "      <td>1101</td>\n",
       "      <td>0100</td>\n",
       "    </tr>\n",
       "    <tr>\n",
       "      <th>3</th>\n",
       "      <td>t</td>\n",
       "      <td>101</td>\n",
       "      <td>0.071937</td>\n",
       "      <td>010011</td>\n",
       "      <td>1100</td>\n",
       "      <td>0101</td>\n",
       "    </tr>\n",
       "    <tr>\n",
       "      <th>4</th>\n",
       "      <td>n</td>\n",
       "      <td>90</td>\n",
       "      <td>0.064103</td>\n",
       "      <td>001101</td>\n",
       "      <td>1001</td>\n",
       "      <td>0110</td>\n",
       "    </tr>\n",
       "    <tr>\n",
       "      <th>5</th>\n",
       "      <td>o</td>\n",
       "      <td>88</td>\n",
       "      <td>0.062678</td>\n",
       "      <td>001110</td>\n",
       "      <td>1000</td>\n",
       "      <td>0111</td>\n",
       "    </tr>\n",
       "    <tr>\n",
       "      <th>6</th>\n",
       "      <td>i</td>\n",
       "      <td>85</td>\n",
       "      <td>0.060541</td>\n",
       "      <td>001000</td>\n",
       "      <td>0111</td>\n",
       "      <td>1000</td>\n",
       "    </tr>\n",
       "    <tr>\n",
       "      <th>7</th>\n",
       "      <td>r</td>\n",
       "      <td>84</td>\n",
       "      <td>0.059829</td>\n",
       "      <td>010001</td>\n",
       "      <td>0110</td>\n",
       "      <td>1001</td>\n",
       "    </tr>\n",
       "    <tr>\n",
       "      <th>8</th>\n",
       "      <td>s</td>\n",
       "      <td>79</td>\n",
       "      <td>0.056268</td>\n",
       "      <td>010010</td>\n",
       "      <td>0100</td>\n",
       "      <td>1010</td>\n",
       "    </tr>\n",
       "    <tr>\n",
       "      <th>9</th>\n",
       "      <td>d</td>\n",
       "      <td>64</td>\n",
       "      <td>0.045584</td>\n",
       "      <td>000011</td>\n",
       "      <td>0000</td>\n",
       "      <td>10110</td>\n",
       "    </tr>\n",
       "    <tr>\n",
       "      <th>10</th>\n",
       "      <td>l</td>\n",
       "      <td>59</td>\n",
       "      <td>0.042023</td>\n",
       "      <td>001011</td>\n",
       "      <td>11110</td>\n",
       "      <td>10111</td>\n",
       "    </tr>\n",
       "    <tr>\n",
       "      <th>11</th>\n",
       "      <td>p</td>\n",
       "      <td>52</td>\n",
       "      <td>0.037037</td>\n",
       "      <td>001111</td>\n",
       "      <td>11100</td>\n",
       "      <td>11000</td>\n",
       "    </tr>\n",
       "    <tr>\n",
       "      <th>12</th>\n",
       "      <td>c</td>\n",
       "      <td>37</td>\n",
       "      <td>0.026353</td>\n",
       "      <td>000010</td>\n",
       "      <td>00011</td>\n",
       "      <td>11001</td>\n",
       "    </tr>\n",
       "    <tr>\n",
       "      <th>13</th>\n",
       "      <td>h</td>\n",
       "      <td>31</td>\n",
       "      <td>0.022080</td>\n",
       "      <td>000111</td>\n",
       "      <td>111111</td>\n",
       "      <td>11010</td>\n",
       "    </tr>\n",
       "    <tr>\n",
       "      <th>14</th>\n",
       "      <td>m</td>\n",
       "      <td>30</td>\n",
       "      <td>0.021368</td>\n",
       "      <td>001100</td>\n",
       "      <td>111110</td>\n",
       "      <td>11011</td>\n",
       "    </tr>\n",
       "    <tr>\n",
       "      <th>15</th>\n",
       "      <td>u</td>\n",
       "      <td>26</td>\n",
       "      <td>0.018519</td>\n",
       "      <td>010100</td>\n",
       "      <td>111010</td>\n",
       "      <td>111000</td>\n",
       "    </tr>\n",
       "    <tr>\n",
       "      <th>16</th>\n",
       "      <td>g</td>\n",
       "      <td>20</td>\n",
       "      <td>0.014245</td>\n",
       "      <td>000110</td>\n",
       "      <td>010110</td>\n",
       "      <td>111001</td>\n",
       "    </tr>\n",
       "    <tr>\n",
       "      <th>17</th>\n",
       "      <td>f</td>\n",
       "      <td>19</td>\n",
       "      <td>0.013533</td>\n",
       "      <td>000101</td>\n",
       "      <td>010100</td>\n",
       "      <td>111010</td>\n",
       "    </tr>\n",
       "    <tr>\n",
       "      <th>18</th>\n",
       "      <td>b</td>\n",
       "      <td>17</td>\n",
       "      <td>0.012108</td>\n",
       "      <td>000001</td>\n",
       "      <td>000101</td>\n",
       "      <td>111011</td>\n",
       "    </tr>\n",
       "    <tr>\n",
       "      <th>19</th>\n",
       "      <td>-</td>\n",
       "      <td>16</td>\n",
       "      <td>0.011396</td>\n",
       "      <td>011111</td>\n",
       "      <td>000100</td>\n",
       "      <td>111100</td>\n",
       "    </tr>\n",
       "    <tr>\n",
       "      <th>20</th>\n",
       "      <td>v</td>\n",
       "      <td>13</td>\n",
       "      <td>0.009259</td>\n",
       "      <td>010101</td>\n",
       "      <td>1110110</td>\n",
       "      <td>1111010</td>\n",
       "    </tr>\n",
       "    <tr>\n",
       "      <th>21</th>\n",
       "      <td>,</td>\n",
       "      <td>11</td>\n",
       "      <td>0.007835</td>\n",
       "      <td>011101</td>\n",
       "      <td>0101110</td>\n",
       "      <td>1111100</td>\n",
       "    </tr>\n",
       "    <tr>\n",
       "      <th>22</th>\n",
       "      <td>w</td>\n",
       "      <td>11</td>\n",
       "      <td>0.007835</td>\n",
       "      <td>010110</td>\n",
       "      <td>0101011</td>\n",
       "      <td>1111011</td>\n",
       "    </tr>\n",
       "    <tr>\n",
       "      <th>23</th>\n",
       "      <td>y</td>\n",
       "      <td>9</td>\n",
       "      <td>0.006410</td>\n",
       "      <td>011000</td>\n",
       "      <td>0101010</td>\n",
       "      <td>1111101</td>\n",
       "    </tr>\n",
       "    <tr>\n",
       "      <th>24</th>\n",
       "      <td>x</td>\n",
       "      <td>7</td>\n",
       "      <td>0.004986</td>\n",
       "      <td>010111</td>\n",
       "      <td>11101111</td>\n",
       "      <td>11111100</td>\n",
       "    </tr>\n",
       "    <tr>\n",
       "      <th>25</th>\n",
       "      <td>.</td>\n",
       "      <td>6</td>\n",
       "      <td>0.004274</td>\n",
       "      <td>011100</td>\n",
       "      <td>01011111</td>\n",
       "      <td>11111101</td>\n",
       "    </tr>\n",
       "    <tr>\n",
       "      <th>26</th>\n",
       "      <td>)</td>\n",
       "      <td>3</td>\n",
       "      <td>0.002137</td>\n",
       "      <td>011011</td>\n",
       "      <td>111011100</td>\n",
       "      <td>111111110</td>\n",
       "    </tr>\n",
       "    <tr>\n",
       "      <th>27</th>\n",
       "      <td>z</td>\n",
       "      <td>3</td>\n",
       "      <td>0.002137</td>\n",
       "      <td>011001</td>\n",
       "      <td>010111100</td>\n",
       "      <td>111111100</td>\n",
       "    </tr>\n",
       "    <tr>\n",
       "      <th>28</th>\n",
       "      <td>(</td>\n",
       "      <td>3</td>\n",
       "      <td>0.002137</td>\n",
       "      <td>011010</td>\n",
       "      <td>010111101</td>\n",
       "      <td>111111101</td>\n",
       "    </tr>\n",
       "    <tr>\n",
       "      <th>29</th>\n",
       "      <td>q</td>\n",
       "      <td>1</td>\n",
       "      <td>0.000712</td>\n",
       "      <td>010000</td>\n",
       "      <td>11101110100</td>\n",
       "      <td>11111111110</td>\n",
       "    </tr>\n",
       "    <tr>\n",
       "      <th>30</th>\n",
       "      <td>j</td>\n",
       "      <td>1</td>\n",
       "      <td>0.000712</td>\n",
       "      <td>001001</td>\n",
       "      <td>11101110110</td>\n",
       "      <td>11111111100</td>\n",
       "    </tr>\n",
       "    <tr>\n",
       "      <th>31</th>\n",
       "      <td>k</td>\n",
       "      <td>1</td>\n",
       "      <td>0.000712</td>\n",
       "      <td>001010</td>\n",
       "      <td>11101110111</td>\n",
       "      <td>11111111101</td>\n",
       "    </tr>\n",
       "    <tr>\n",
       "      <th>32</th>\n",
       "      <td>/</td>\n",
       "      <td>1</td>\n",
       "      <td>0.000712</td>\n",
       "      <td>011110</td>\n",
       "      <td>11101110101</td>\n",
       "      <td>11111111111</td>\n",
       "    </tr>\n",
       "  </tbody>\n",
       "</table>\n",
       "</div>"
      ],
      "text/plain": [
       "   symbol  frequency  probability fixed-code huffman-code shanon-fano-code\n",
       "0                189     0.134615     100000          101              000\n",
       "1       e        146     0.103989     000100          001              001\n",
       "2       a        101     0.071937     000000         1101             0100\n",
       "3       t        101     0.071937     010011         1100             0101\n",
       "4       n         90     0.064103     001101         1001             0110\n",
       "5       o         88     0.062678     001110         1000             0111\n",
       "6       i         85     0.060541     001000         0111             1000\n",
       "7       r         84     0.059829     010001         0110             1001\n",
       "8       s         79     0.056268     010010         0100             1010\n",
       "9       d         64     0.045584     000011         0000            10110\n",
       "10      l         59     0.042023     001011        11110            10111\n",
       "11      p         52     0.037037     001111        11100            11000\n",
       "12      c         37     0.026353     000010        00011            11001\n",
       "13      h         31     0.022080     000111       111111            11010\n",
       "14      m         30     0.021368     001100       111110            11011\n",
       "15      u         26     0.018519     010100       111010           111000\n",
       "16      g         20     0.014245     000110       010110           111001\n",
       "17      f         19     0.013533     000101       010100           111010\n",
       "18      b         17     0.012108     000001       000101           111011\n",
       "19      -         16     0.011396     011111       000100           111100\n",
       "20      v         13     0.009259     010101      1110110          1111010\n",
       "21      ,         11     0.007835     011101      0101110          1111100\n",
       "22      w         11     0.007835     010110      0101011          1111011\n",
       "23      y          9     0.006410     011000      0101010          1111101\n",
       "24      x          7     0.004986     010111     11101111         11111100\n",
       "25      .          6     0.004274     011100     01011111         11111101\n",
       "26      )          3     0.002137     011011    111011100        111111110\n",
       "27      z          3     0.002137     011001    010111100        111111100\n",
       "28      (          3     0.002137     011010    010111101        111111101\n",
       "29      q          1     0.000712     010000  11101110100      11111111110\n",
       "30      j          1     0.000712     001001  11101110110      11111111100\n",
       "31      k          1     0.000712     001010  11101110111      11111111101\n",
       "32      /          1     0.000712     011110  11101110101      11111111111"
      ]
     },
     "execution_count": 263,
     "metadata": {},
     "output_type": "execute_result"
    }
   ],
   "source": [
    "symbols_data"
   ]
  },
  {
   "cell_type": "markdown",
   "metadata": {},
   "source": [
    "**Coding the whole file**"
   ]
  },
  {
   "cell_type": "code",
   "execution_count": 266,
   "metadata": {},
   "outputs": [],
   "source": [
    "file_code = ''\n",
    "for char in text:\n",
    "    file_code += symbols_data.loc[symbols_data['symbol'] == char, 'shanon-fano-code'].item()"
   ]
  },
  {
   "cell_type": "code",
   "execution_count": 267,
   "metadata": {},
   "outputs": [
    {
     "data": {
      "text/plain": [
       "'1000011000001011101010001010000110000100110000011001111110000001000000110011111110100011011100010110001110010111100110010011011101000101100001110110111100111011010010100011011000011001011101101100111100010011001001011001010001011010001110011000010101001011100011000100100110110100010100101011110010101100001110110000111111101101101100010110111111110000101001111011111100001011000011101100001000101000011000100101111100001111010001101100001110100111100100010110111000010010111111100111011010001101011000001011001010001101010110111000010101010011001101000011111110101011111110011111111000000111011110001011101111111101100001101110010000100000101010000110111001101110010001111011100010110001111011010001101011000011000011111110110011001000010011011110001011110001110101000001100100011111110111000010011111111011111000000100011010110000111000010110001011110001111111001000011011100100011111111100111000101001010000100000101010000110111001101110010001110100010011011011101101001100111111111101000100100111001001100011110100011001000110000100010111010111111010000101110100010001100010010111110000111101000110110000101100011100101111001100100110111010001011000011101101111001110110100101000110110000110000100100101001101100101010011001000101110010100100101101000011011100100010100111101111110000101100001110110000100010100001110110111010111010000111010101110011111110010001110111011100100001000110101100001010100011011110001011100111111000000100011010110000011111000001100101000101001101000010000110000010000011001101110111101000110110111100101110111011111000000110110100011001100011001111110000001111100011000011110100011011000001010111000010111010001000111101110001011000110111111110100001001100011000101111000001101100001000011010110100010010011100101010001011100101001001011010000110111001000010010011100111010100001010011100101011110001001001111111010000101110100010001100010010111110000111101000110110000101100011100101111001100100110111010001011000011101101111001110110100101000110110000101110010100100101101000011011100100001000110101100001011011000101100001100010010111110010011010101010000110111001000110010100011000001001011110100111000111011001000001111010111010001110010101100011110100011011111111010000100110001100010111100000110110000010101110001101101111001001000011110011011010000110010010011111101000101010000110111001101110011111001110110100011010110000010110010100011010101101110001010101010000111011010101111100000010010100001111011001101111011100001001010000111001001011000110010100101111000111111100001101100000101011100011011011110010010000101110100100011000001011111011011100001011001010001101010110111000010100011101101000110101101010111111010000101110101001011111100011100111010000010000011001011111011110001001001110100010110101010001111010001000010001100100101111111101101010001010000110010111111101000110011000011011100100011101101110101110100000101110100010001011011000101100001100001001001010011011001010100110010001011100101001001011010000110111001000010001101011000001011101000100011011010010000110000110000100010111010000110001001011111001001101010101000011011100111111000001000010100010001010000101011010011111110110110000010111010010001010000101110100010001100101111101111000101110011111110010000101111110100001111110100000101110100010001100010010111110000111101000110110000110010111011011001111000100110010010110010100010110110001011000010001010000101011100011101110100101010001100101100001001011110111111110100010111011111110110011001000110010111110111100001001001001101100001111011100001011101000001011101000100001110101110100011001000101001010100010100111110001111110101111000101110100011111000100100101010001100101110110110011110001001100100101100101000101101100010110000110110010101110100111101101010111111010000011111110001010010110101010001111010001000101000101010000111111010000111111111101110000100011001011000010101000101100011110100010001010100011011111000101110100010110000111011000001000110101100001001111010000110110010100101011100010010011101100101100101000100100110101110001011101011010000010010010010000100101111010011100011000100100110100010110010100110110111110000011100010101000011011100100001000001110110100101000111110010100101010001011000011101100001100001000000100101000011110110011011110111000010010100000100000110010111110111101100110011100110000100101110001011101010011111000100101101111010010001101100100110110000110110111111011100010111001000110000100111110000001010111000001111101001001011111100001000101001000010001101011000011110100100101111000101100100010100100001011101000100000111101011101000111001010110001111010001011000110101010000011111101000001011101000100011000100101111100001111010001101100001011011000101100001010011110111111000010110000111011000010000110000111101001001001100001111110001010000100100101001011100011110110111100110111101100001010110010010110010010011000011110101111100000100001101100101111001110000111100101000101100001101110010001010100001101110011011100111110011101101000110101101111111111110110111000010010111111100111011010001101011000001011111110000011001010010100011010111111010000101110100010001010100011011111000101110100010110000111011000001000110101100001001111010000110110010100101011100010010011101100101100101000100100110101110001011101011010000101100011101101110110101001011001010001010010000011111110011001001101111011100101100101000101111000011000101001001100011111110001000101100001110110000110000011001111010011110011101101000110110010010000111111010000010111010001000110001001011111000011110100011011000011001011101101100111100010011001001011001010001011011000101101111100000001111101000101100000111111000010111000001100111101001111001110111000011011100100011001111000100110010010110010100010100101010001010011111000111111010111100010111010001111100010010010101000110110010101110100111101101010111110000010110001101011000100001010010000101110100010001010100011100101101000111010100011001010001100101101111111101000101110111111101100110010001100101111101111000101110011111110010000101111110111111101'"
      ]
     },
     "execution_count": 267,
     "metadata": {},
     "output_type": "execute_result"
    }
   ],
   "source": [
    "file_code"
   ]
  },
  {
   "cell_type": "code",
   "execution_count": 268,
   "metadata": {},
   "outputs": [],
   "source": [
    "with open('shanon_code.txt','w') as f:\n",
    "    f.write(file_code)"
   ]
  },
  {
   "cell_type": "markdown",
   "metadata": {},
   "source": [
    "**Decoding**"
   ]
  },
  {
   "cell_type": "code",
   "execution_count": 269,
   "metadata": {},
   "outputs": [],
   "source": [
    "with open('shanon_code.txt', 'r') as f:\n",
    "    code = f.read()"
   ]
  },
  {
   "cell_type": "code",
   "execution_count": null,
   "metadata": {},
   "outputs": [],
   "source": [
    "symbol_code = ''\n",
    "shanon_text = ''\n",
    "for bit in code:\n",
    "    symbol_code += bit\n",
    "    if symbol_code in symbols_data['shanon-fano-code'].values:\n",
    "        symbol =  symbols_data.loc[symbols_data['shanon-fano-code'] == symbol_code]['symbol'].item()\n",
    "        shanon_text += symbol\n",
    "        symbol_code = ''"
   ]
  },
  {
   "cell_type": "code",
   "execution_count": 272,
   "metadata": {},
   "outputs": [
    {
     "data": {
      "text/plain": [
       "'in this paper, a novel decorrelation-based concurrent digital predistortion (dpd) solution is proposed for dual-band transmitters (tx) employing a single wideband power amplifier (pa), and utilizing just a single feedback receiver path. the proposed decorrelation-based parameter learning solution is both flexible and simple, and operates in a closed-loop manner, opposed to the widely applied indirect learning architecture. the proposed decorrelation-based learning and dpd processing can also be effectively applied to more ordinary single-band transmissions, as well as generalized to more than two transmit bands. through a comprehensive analysis covering both the dpd parameter learning and the main path processing, it is shown that the complexity of the proposed concurrent dpd is substantially lower compared with the other state-of-the-art concurrent dpd methods. extensive set of quantitative simulation and rf measurement results are also presented, using a base-station pa as well as a commercial lte-advanced mobile pa, to evaluate and validate the effectiveness of the proposed dpd solution in various real world scenarios, incorporating single-band/dual-band tx cases. the simulation and rf measurement results demonstrate excellent linearization performance of the proposed concurrent dpd, even outperforming current state-of-the-art methods, despite the significantly lower complexity.'"
      ]
     },
     "execution_count": 272,
     "metadata": {},
     "output_type": "execute_result"
    }
   ],
   "source": [
    "shanon_text"
   ]
  },
  {
   "cell_type": "code",
   "execution_count": 277,
   "metadata": {},
   "outputs": [],
   "source": [
    "symbols_data.iloc[0,0] = 'space'"
   ]
  },
  {
   "cell_type": "code",
   "execution_count": 278,
   "metadata": {},
   "outputs": [
    {
     "data": {
      "text/html": [
       "<div>\n",
       "<style scoped>\n",
       "    .dataframe tbody tr th:only-of-type {\n",
       "        vertical-align: middle;\n",
       "    }\n",
       "\n",
       "    .dataframe tbody tr th {\n",
       "        vertical-align: top;\n",
       "    }\n",
       "\n",
       "    .dataframe thead th {\n",
       "        text-align: right;\n",
       "    }\n",
       "</style>\n",
       "<table border=\"1\" class=\"dataframe\">\n",
       "  <thead>\n",
       "    <tr style=\"text-align: right;\">\n",
       "      <th></th>\n",
       "      <th>symbol</th>\n",
       "      <th>frequency</th>\n",
       "      <th>probability</th>\n",
       "      <th>fixed-code</th>\n",
       "      <th>huffman-code</th>\n",
       "      <th>shanon-fano-code</th>\n",
       "    </tr>\n",
       "  </thead>\n",
       "  <tbody>\n",
       "    <tr>\n",
       "      <th>0</th>\n",
       "      <td>space</td>\n",
       "      <td>189</td>\n",
       "      <td>0.134615</td>\n",
       "      <td>100000</td>\n",
       "      <td>101</td>\n",
       "      <td>000</td>\n",
       "    </tr>\n",
       "    <tr>\n",
       "      <th>1</th>\n",
       "      <td>e</td>\n",
       "      <td>146</td>\n",
       "      <td>0.103989</td>\n",
       "      <td>000100</td>\n",
       "      <td>001</td>\n",
       "      <td>001</td>\n",
       "    </tr>\n",
       "    <tr>\n",
       "      <th>2</th>\n",
       "      <td>a</td>\n",
       "      <td>101</td>\n",
       "      <td>0.071937</td>\n",
       "      <td>000000</td>\n",
       "      <td>1101</td>\n",
       "      <td>0100</td>\n",
       "    </tr>\n",
       "    <tr>\n",
       "      <th>3</th>\n",
       "      <td>t</td>\n",
       "      <td>101</td>\n",
       "      <td>0.071937</td>\n",
       "      <td>010011</td>\n",
       "      <td>1100</td>\n",
       "      <td>0101</td>\n",
       "    </tr>\n",
       "    <tr>\n",
       "      <th>4</th>\n",
       "      <td>n</td>\n",
       "      <td>90</td>\n",
       "      <td>0.064103</td>\n",
       "      <td>001101</td>\n",
       "      <td>1001</td>\n",
       "      <td>0110</td>\n",
       "    </tr>\n",
       "  </tbody>\n",
       "</table>\n",
       "</div>"
      ],
      "text/plain": [
       "  symbol  frequency  probability fixed-code huffman-code shanon-fano-code\n",
       "0  space        189     0.134615     100000          101              000\n",
       "1      e        146     0.103989     000100          001              001\n",
       "2      a        101     0.071937     000000         1101             0100\n",
       "3      t        101     0.071937     010011         1100             0101\n",
       "4      n         90     0.064103     001101         1001             0110"
      ]
     },
     "execution_count": 278,
     "metadata": {},
     "output_type": "execute_result"
    }
   ],
   "source": [
    "symbols_data.head()"
   ]
  },
  {
   "cell_type": "code",
   "execution_count": 280,
   "metadata": {},
   "outputs": [],
   "source": [
    "symbols_data.to_csv('final_codes.csv')"
   ]
  }
 ],
 "metadata": {
  "kernelspec": {
   "display_name": ".venv",
   "language": "python",
   "name": "python3"
  },
  "language_info": {
   "codemirror_mode": {
    "name": "ipython",
    "version": 3
   },
   "file_extension": ".py",
   "mimetype": "text/x-python",
   "name": "python",
   "nbconvert_exporter": "python",
   "pygments_lexer": "ipython3",
   "version": "3.12.5"
  }
 },
 "nbformat": 4,
 "nbformat_minor": 2
}
