{
 "cells": [
  {
   "cell_type": "code",
   "execution_count": 263,
   "metadata": {},
   "outputs": [],
   "source": [
    "with open('Test_text_file.txt', 'r') as F:\n",
    "    text = F.read()"
   ]
  },
  {
   "cell_type": "code",
   "execution_count": 264,
   "metadata": {},
   "outputs": [],
   "source": [
    "#total number of characters\n",
    "characters ='abcdefghijklmnopqrstuvwxyz().,/- '\n",
    "total =  len(text)\n",
    "alphabet_dict_count = {char: 0 for char in characters }"
   ]
  },
  {
   "cell_type": "code",
   "execution_count": 265,
   "metadata": {},
   "outputs": [
    {
     "name": "stdout",
     "output_type": "stream",
     "text": [
      "{'a': 0, 'b': 0, 'c': 0, 'd': 0, 'e': 0, 'f': 0, 'g': 0, 'h': 0, 'i': 0, 'j': 0, 'k': 0, 'l': 0, 'm': 0, 'n': 0, 'o': 0, 'p': 0, 'q': 0, 'r': 0, 's': 0, 't': 0, 'u': 0, 'v': 0, 'w': 0, 'x': 0, 'y': 0, 'z': 0, '(': 0, ')': 0, '.': 0, ',': 0, '/': 0, '-': 0, ' ': 0}\n"
     ]
    }
   ],
   "source": [
    "print(alphabet_dict_count)"
   ]
  },
  {
   "cell_type": "markdown",
   "metadata": {},
   "source": [
    "**Probabilities calculations**"
   ]
  },
  {
   "cell_type": "code",
   "execution_count": 266,
   "metadata": {},
   "outputs": [],
   "source": [
    "for char in text:\n",
    "    alphabet_dict_count[char] +=1"
   ]
  },
  {
   "cell_type": "code",
   "execution_count": 267,
   "metadata": {},
   "outputs": [
    {
     "name": "stdout",
     "output_type": "stream",
     "text": [
      "33\n"
     ]
    }
   ],
   "source": [
    "print(len(alphabet_dict_count))"
   ]
  },
  {
   "cell_type": "code",
   "execution_count": 268,
   "metadata": {},
   "outputs": [
    {
     "name": "stdout",
     "output_type": "stream",
     "text": [
      "{'a': 101, 'b': 17, 'c': 37, 'd': 64, 'e': 146, 'f': 19, 'g': 20, 'h': 31, 'i': 85, 'j': 1, 'k': 1, 'l': 59, 'm': 30, 'n': 90, 'o': 88, 'p': 52, 'q': 1, 'r': 84, 's': 79, 't': 101, 'u': 26, 'v': 13, 'w': 11, 'x': 7, 'y': 9, 'z': 3, '(': 3, ')': 3, '.': 6, ',': 11, '/': 1, '-': 16, ' ': 189}\n"
     ]
    }
   ],
   "source": [
    "print(alphabet_dict_count)"
   ]
  },
  {
   "cell_type": "code",
   "execution_count": 269,
   "metadata": {},
   "outputs": [],
   "source": [
    "characters_prob = {char : count / total for char,count in alphabet_dict_count.items()}"
   ]
  },
  {
   "cell_type": "code",
   "execution_count": 270,
   "metadata": {},
   "outputs": [
    {
     "name": "stdout",
     "output_type": "stream",
     "text": [
      "{'a': 0.07193732193732194, 'b': 0.012108262108262107, 'c': 0.026353276353276354, 'd': 0.045584045584045586, 'e': 0.10398860398860399, 'f': 0.013532763532763533, 'g': 0.014245014245014245, 'h': 0.02207977207977208, 'i': 0.06054131054131054, 'j': 0.0007122507122507123, 'k': 0.0007122507122507123, 'l': 0.04202279202279202, 'm': 0.021367521367521368, 'n': 0.0641025641025641, 'o': 0.06267806267806268, 'p': 0.037037037037037035, 'q': 0.0007122507122507123, 'r': 0.05982905982905983, 's': 0.05626780626780627, 't': 0.07193732193732194, 'u': 0.018518518518518517, 'v': 0.009259259259259259, 'w': 0.007834757834757835, 'x': 0.004985754985754986, 'y': 0.00641025641025641, 'z': 0.002136752136752137, '(': 0.002136752136752137, ')': 0.002136752136752137, '.': 0.004273504273504274, ',': 0.007834757834757835, '/': 0.0007122507122507123, '-': 0.011396011396011397, ' ': 0.1346153846153846}\n"
     ]
    }
   ],
   "source": [
    "print(characters_prob)"
   ]
  },
  {
   "cell_type": "code",
   "execution_count": 271,
   "metadata": {},
   "outputs": [
    {
     "name": "stdout",
     "output_type": "stream",
     "text": [
      "0.9999999999999998\n"
     ]
    }
   ],
   "source": [
    "summation = 0\n",
    "for char, prob in characters_prob.items():\n",
    "    summation += prob\n",
    "print(summation)"
   ]
  },
  {
   "cell_type": "markdown",
   "metadata": {},
   "source": [
    "**Entropy calculations**"
   ]
  },
  {
   "cell_type": "code",
   "execution_count": 272,
   "metadata": {},
   "outputs": [],
   "source": [
    "import math as m\n",
    "entropy = 0\n",
    "for char, count in characters_prob.items():\n",
    "    entropy += characters_prob[char] * m.log(1/characters_prob[char],2)\n"
   ]
  },
  {
   "cell_type": "markdown",
   "metadata": {},
   "source": [
    "# Fixed length code"
   ]
  },
  {
   "cell_type": "code",
   "execution_count": 273,
   "metadata": {},
   "outputs": [
    {
     "name": "stdout",
     "output_type": "stream",
     "text": [
      "The needed number of bits for fixed code is : 6\n"
     ]
    }
   ],
   "source": [
    "number_of_bits = m.ceil(m.log(33,2))\n",
    "print(f'The needed number of bits for fixed code is : {number_of_bits}')"
   ]
  },
  {
   "cell_type": "code",
   "execution_count": 274,
   "metadata": {},
   "outputs": [],
   "source": [
    "# Function to convert decimal 2 a binary number\n",
    "def decimal2binary(num, length):\n",
    "    binary = \"\"\n",
    "    while num > 0:\n",
    "        binary += str(num % 2)\n",
    "        num  = num // 2\n",
    "    if len(binary) < length:\n",
    "        for i in range(length - len(binary)):\n",
    "            binary += '0' \n",
    "    return binary[::-1 ]\n",
    "        \n"
   ]
  },
  {
   "cell_type": "code",
   "execution_count": 275,
   "metadata": {},
   "outputs": [
    {
     "data": {
      "text/plain": [
       "'000000'"
      ]
     },
     "execution_count": 275,
     "metadata": {},
     "output_type": "execute_result"
    }
   ],
   "source": [
    "decimal2binary(0,6)"
   ]
  },
  {
   "cell_type": "markdown",
   "metadata": {},
   "source": [
    "**Encoder**"
   ]
  },
  {
   "cell_type": "code",
   "execution_count": 276,
   "metadata": {},
   "outputs": [],
   "source": [
    "fixed_codes = {}\n",
    "for i in range(len(characters)):\n",
    "    fixed_codes[characters[i]] = decimal2binary(i,6)"
   ]
  },
  {
   "cell_type": "code",
   "execution_count": 277,
   "metadata": {},
   "outputs": [
    {
     "name": "stdout",
     "output_type": "stream",
     "text": [
      "{'a': '000000', 'b': '000001', 'c': '000010', 'd': '000011', 'e': '000100', 'f': '000101', 'g': '000110', 'h': '000111', 'i': '001000', 'j': '001001', 'k': '001010', 'l': '001011', 'm': '001100', 'n': '001101', 'o': '001110', 'p': '001111', 'q': '010000', 'r': '010001', 's': '010010', 't': '010011', 'u': '010100', 'v': '010101', 'w': '010110', 'x': '010111', 'y': '011000', 'z': '011001', '(': '011010', ')': '011011', '.': '011100', ',': '011101', '/': '011110', '-': '011111', ' ': '100000'}\n"
     ]
    }
   ],
   "source": [
    "print(fixed_codes)"
   ]
  },
  {
   "cell_type": "markdown",
   "metadata": {},
   "source": [
    "**Fixed code efficiency**"
   ]
  },
  {
   "cell_type": "code",
   "execution_count": 278,
   "metadata": {},
   "outputs": [
    {
     "name": "stdout",
     "output_type": "stream",
     "text": [
      "the effciency of fixed code method is: 70.95\n"
     ]
    }
   ],
   "source": [
    "fixed_code_eff = (entropy / 6) * 100\n",
    "print(f\"the effciency of fixed code method is: {round(fixed_code_eff,2)}\")"
   ]
  },
  {
   "cell_type": "markdown",
   "metadata": {},
   "source": [
    "# Huffman code"
   ]
  },
  {
   "cell_type": "code",
   "execution_count": null,
   "metadata": {},
   "outputs": [],
   "source": []
  },
  {
   "cell_type": "markdown",
   "metadata": {},
   "source": [
    "# Shanon-Fano code"
   ]
  },
  {
   "cell_type": "code",
   "execution_count": 279,
   "metadata": {},
   "outputs": [
    {
     "name": "stdout",
     "output_type": "stream",
     "text": [
      "{'a': '', 'b': '', 'c': '', 'd': '', 'e': '', 'f': '', 'g': '', 'h': '', 'i': '', 'j': '', 'k': '', 'l': '', 'm': '', 'n': '', 'o': '', 'p': '', 'q': '', 'r': '', 's': '', 't': '', 'u': '', 'v': '', 'w': '', 'x': '', 'y': '', 'z': '', '(': '', ')': '', '.': '', ',': '', '/': '', '-': '', ' ': ''}\n"
     ]
    }
   ],
   "source": [
    "shanon_codes = {char : \"\" for char in characters}\n",
    "print(shanon_codes)"
   ]
  },
  {
   "cell_type": "markdown",
   "metadata": {},
   "source": [
    "**Encoder**"
   ]
  },
  {
   "cell_type": "code",
   "execution_count": 280,
   "metadata": {},
   "outputs": [
    {
     "name": "stdout",
     "output_type": "stream",
     "text": [
      "symbol (A) ----- frequency 0.5 ----- code \n"
     ]
    }
   ],
   "source": [
    "class Cell:\n",
    "    def __init__(self, symbol, frequency):\n",
    "        self.symbol = symbol\n",
    "        self.frequency = frequency\n",
    "        self.code = ''\n",
    "\n",
    "    def __repr__(self):\n",
    "        return f'symbol ({self.symbol}) ----- frequency {self.frequency} ----- code {self.code}'\n",
    "\n",
    "    def __radd__(self, other):\n",
    "        return other + self.frequency\n",
    "c1 = Cell('A', 0.5)\n",
    "print(c1)"
   ]
  },
  {
   "cell_type": "code",
   "execution_count": 281,
   "metadata": {},
   "outputs": [
    {
     "name": "stdout",
     "output_type": "stream",
     "text": [
      "[symbol (a) ----- frequency 101 ----- code , symbol (b) ----- frequency 17 ----- code , symbol (c) ----- frequency 37 ----- code , symbol (d) ----- frequency 64 ----- code , symbol (e) ----- frequency 146 ----- code , symbol (f) ----- frequency 19 ----- code , symbol (g) ----- frequency 20 ----- code , symbol (h) ----- frequency 31 ----- code , symbol (i) ----- frequency 85 ----- code , symbol (j) ----- frequency 1 ----- code , symbol (k) ----- frequency 1 ----- code , symbol (l) ----- frequency 59 ----- code , symbol (m) ----- frequency 30 ----- code , symbol (n) ----- frequency 90 ----- code , symbol (o) ----- frequency 88 ----- code , symbol (p) ----- frequency 52 ----- code , symbol (q) ----- frequency 1 ----- code , symbol (r) ----- frequency 84 ----- code , symbol (s) ----- frequency 79 ----- code , symbol (t) ----- frequency 101 ----- code , symbol (u) ----- frequency 26 ----- code , symbol (v) ----- frequency 13 ----- code , symbol (w) ----- frequency 11 ----- code , symbol (x) ----- frequency 7 ----- code , symbol (y) ----- frequency 9 ----- code , symbol (z) ----- frequency 3 ----- code , symbol (() ----- frequency 3 ----- code , symbol ()) ----- frequency 3 ----- code , symbol (.) ----- frequency 6 ----- code , symbol (,) ----- frequency 11 ----- code , symbol (/) ----- frequency 1 ----- code , symbol (-) ----- frequency 16 ----- code , symbol ( ) ----- frequency 189 ----- code ]\n"
     ]
    }
   ],
   "source": [
    "shanon_cells = [Cell(char,prob) for char , prob in alphabet_dict_count.items()]\n",
    "print(shanon_cells) "
   ]
  },
  {
   "cell_type": "code",
   "execution_count": 282,
   "metadata": {},
   "outputs": [],
   "source": [
    "#sorting the symbols according to probabilties \n",
    "for i in range(len(shanon_cells)):\n",
    "    for j in range(i + 1 , len(shanon_cells)):\n",
    "        if shanon_cells[i].frequency <= shanon_cells[j].frequency:\n",
    "            temp = shanon_cells[j]\n",
    "            shanon_cells[j] = shanon_cells[i]\n",
    "            shanon_cells[i] = temp"
   ]
  },
  {
   "cell_type": "code",
   "execution_count": 283,
   "metadata": {},
   "outputs": [
    {
     "name": "stdout",
     "output_type": "stream",
     "text": [
      "[symbol ( ) ----- frequency 189 ----- code , symbol (e) ----- frequency 146 ----- code , symbol (t) ----- frequency 101 ----- code , symbol (a) ----- frequency 101 ----- code , symbol (n) ----- frequency 90 ----- code , symbol (o) ----- frequency 88 ----- code , symbol (i) ----- frequency 85 ----- code , symbol (r) ----- frequency 84 ----- code , symbol (s) ----- frequency 79 ----- code , symbol (d) ----- frequency 64 ----- code , symbol (l) ----- frequency 59 ----- code , symbol (p) ----- frequency 52 ----- code , symbol (c) ----- frequency 37 ----- code , symbol (h) ----- frequency 31 ----- code , symbol (m) ----- frequency 30 ----- code , symbol (u) ----- frequency 26 ----- code , symbol (g) ----- frequency 20 ----- code , symbol (f) ----- frequency 19 ----- code , symbol (b) ----- frequency 17 ----- code , symbol (-) ----- frequency 16 ----- code , symbol (v) ----- frequency 13 ----- code , symbol (,) ----- frequency 11 ----- code , symbol (w) ----- frequency 11 ----- code , symbol (y) ----- frequency 9 ----- code , symbol (x) ----- frequency 7 ----- code , symbol (.) ----- frequency 6 ----- code , symbol ()) ----- frequency 3 ----- code , symbol (() ----- frequency 3 ----- code , symbol (z) ----- frequency 3 ----- code , symbol (/) ----- frequency 1 ----- code , symbol (q) ----- frequency 1 ----- code , symbol (k) ----- frequency 1 ----- code , symbol (j) ----- frequency 1 ----- code ]\n"
     ]
    }
   ],
   "source": [
    "print(shanon_cells)"
   ]
  },
  {
   "cell_type": "code",
   "execution_count": 284,
   "metadata": {},
   "outputs": [],
   "source": [
    "def shanon_encoder(cells):\n",
    "    if len(cells) <= 1:\n",
    "        return\n",
    "    total_frequency = sum(cells)\n",
    "    half_frequency = total_frequency / 2\n",
    "    cumulative_frequency = 0\n",
    "    split_index = -1\n",
    "    min_difference = 9999999999999999999999999999999999999\n",
    "    for i, freq in enumerate(cell.frequency for cell in cells):\n",
    "        cumulative_frequency += freq\n",
    "        difference = abs(cumulative_frequency - half_frequency)\n",
    "\n",
    "        if difference < min_difference:\n",
    "            min_difference = difference\n",
    "            split_index = i\n",
    "    left_cells = cells[ : split_index + 1]\n",
    "    right_cells = cells[split_index + 1 : ]\n",
    "    for cell in left_cells:\n",
    "        cell.code += '0'\n",
    "    for cell in right_cells:\n",
    "        cell.code += '1'\n",
    "    \n",
    "    shanon_encoder(left_cells)\n",
    "    shanon_encoder(right_cells)"
   ]
  },
  {
   "cell_type": "code",
   "execution_count": 285,
   "metadata": {},
   "outputs": [],
   "source": [
    "shanon_encoder(shanon_cells)"
   ]
  },
  {
   "cell_type": "code",
   "execution_count": 286,
   "metadata": {},
   "outputs": [],
   "source": [
    "import pandas as pd\n",
    "df = pd.DataFrame([{\"symbol\": obj.symbol, \"frequency\": obj.frequency, \"code\": obj.code} for obj in shanon_cells])\n",
    "df.iloc[0,0] = 'space'"
   ]
  },
  {
   "cell_type": "code",
   "execution_count": 287,
   "metadata": {},
   "outputs": [],
   "source": [
    "df['probability'] = df['frequency'] / total"
   ]
  },
  {
   "cell_type": "code",
   "execution_count": 290,
   "metadata": {},
   "outputs": [
    {
     "data": {
      "text/html": [
       "<div>\n",
       "<style scoped>\n",
       "    .dataframe tbody tr th:only-of-type {\n",
       "        vertical-align: middle;\n",
       "    }\n",
       "\n",
       "    .dataframe tbody tr th {\n",
       "        vertical-align: top;\n",
       "    }\n",
       "\n",
       "    .dataframe thead th {\n",
       "        text-align: right;\n",
       "    }\n",
       "</style>\n",
       "<table border=\"1\" class=\"dataframe\">\n",
       "  <thead>\n",
       "    <tr style=\"text-align: right;\">\n",
       "      <th></th>\n",
       "      <th>symbol</th>\n",
       "      <th>frequency</th>\n",
       "      <th>code</th>\n",
       "      <th>probability</th>\n",
       "    </tr>\n",
       "  </thead>\n",
       "  <tbody>\n",
       "    <tr>\n",
       "      <th>0</th>\n",
       "      <td>space</td>\n",
       "      <td>189</td>\n",
       "      <td>000</td>\n",
       "      <td>0.134615</td>\n",
       "    </tr>\n",
       "    <tr>\n",
       "      <th>1</th>\n",
       "      <td>e</td>\n",
       "      <td>146</td>\n",
       "      <td>001</td>\n",
       "      <td>0.103989</td>\n",
       "    </tr>\n",
       "    <tr>\n",
       "      <th>2</th>\n",
       "      <td>t</td>\n",
       "      <td>101</td>\n",
       "      <td>0100</td>\n",
       "      <td>0.071937</td>\n",
       "    </tr>\n",
       "    <tr>\n",
       "      <th>3</th>\n",
       "      <td>a</td>\n",
       "      <td>101</td>\n",
       "      <td>0101</td>\n",
       "      <td>0.071937</td>\n",
       "    </tr>\n",
       "    <tr>\n",
       "      <th>4</th>\n",
       "      <td>n</td>\n",
       "      <td>90</td>\n",
       "      <td>0110</td>\n",
       "      <td>0.064103</td>\n",
       "    </tr>\n",
       "    <tr>\n",
       "      <th>5</th>\n",
       "      <td>o</td>\n",
       "      <td>88</td>\n",
       "      <td>0111</td>\n",
       "      <td>0.062678</td>\n",
       "    </tr>\n",
       "    <tr>\n",
       "      <th>6</th>\n",
       "      <td>i</td>\n",
       "      <td>85</td>\n",
       "      <td>1000</td>\n",
       "      <td>0.060541</td>\n",
       "    </tr>\n",
       "    <tr>\n",
       "      <th>7</th>\n",
       "      <td>r</td>\n",
       "      <td>84</td>\n",
       "      <td>1001</td>\n",
       "      <td>0.059829</td>\n",
       "    </tr>\n",
       "    <tr>\n",
       "      <th>8</th>\n",
       "      <td>s</td>\n",
       "      <td>79</td>\n",
       "      <td>1010</td>\n",
       "      <td>0.056268</td>\n",
       "    </tr>\n",
       "    <tr>\n",
       "      <th>9</th>\n",
       "      <td>d</td>\n",
       "      <td>64</td>\n",
       "      <td>10110</td>\n",
       "      <td>0.045584</td>\n",
       "    </tr>\n",
       "    <tr>\n",
       "      <th>10</th>\n",
       "      <td>l</td>\n",
       "      <td>59</td>\n",
       "      <td>10111</td>\n",
       "      <td>0.042023</td>\n",
       "    </tr>\n",
       "    <tr>\n",
       "      <th>11</th>\n",
       "      <td>p</td>\n",
       "      <td>52</td>\n",
       "      <td>11000</td>\n",
       "      <td>0.037037</td>\n",
       "    </tr>\n",
       "    <tr>\n",
       "      <th>12</th>\n",
       "      <td>c</td>\n",
       "      <td>37</td>\n",
       "      <td>11001</td>\n",
       "      <td>0.026353</td>\n",
       "    </tr>\n",
       "    <tr>\n",
       "      <th>13</th>\n",
       "      <td>h</td>\n",
       "      <td>31</td>\n",
       "      <td>11010</td>\n",
       "      <td>0.022080</td>\n",
       "    </tr>\n",
       "    <tr>\n",
       "      <th>14</th>\n",
       "      <td>m</td>\n",
       "      <td>30</td>\n",
       "      <td>11011</td>\n",
       "      <td>0.021368</td>\n",
       "    </tr>\n",
       "    <tr>\n",
       "      <th>15</th>\n",
       "      <td>u</td>\n",
       "      <td>26</td>\n",
       "      <td>111000</td>\n",
       "      <td>0.018519</td>\n",
       "    </tr>\n",
       "    <tr>\n",
       "      <th>16</th>\n",
       "      <td>g</td>\n",
       "      <td>20</td>\n",
       "      <td>111001</td>\n",
       "      <td>0.014245</td>\n",
       "    </tr>\n",
       "    <tr>\n",
       "      <th>17</th>\n",
       "      <td>f</td>\n",
       "      <td>19</td>\n",
       "      <td>111010</td>\n",
       "      <td>0.013533</td>\n",
       "    </tr>\n",
       "    <tr>\n",
       "      <th>18</th>\n",
       "      <td>b</td>\n",
       "      <td>17</td>\n",
       "      <td>111011</td>\n",
       "      <td>0.012108</td>\n",
       "    </tr>\n",
       "    <tr>\n",
       "      <th>19</th>\n",
       "      <td>-</td>\n",
       "      <td>16</td>\n",
       "      <td>111100</td>\n",
       "      <td>0.011396</td>\n",
       "    </tr>\n",
       "    <tr>\n",
       "      <th>20</th>\n",
       "      <td>v</td>\n",
       "      <td>13</td>\n",
       "      <td>1111010</td>\n",
       "      <td>0.009259</td>\n",
       "    </tr>\n",
       "    <tr>\n",
       "      <th>21</th>\n",
       "      <td>,</td>\n",
       "      <td>11</td>\n",
       "      <td>1111011</td>\n",
       "      <td>0.007835</td>\n",
       "    </tr>\n",
       "    <tr>\n",
       "      <th>22</th>\n",
       "      <td>w</td>\n",
       "      <td>11</td>\n",
       "      <td>1111100</td>\n",
       "      <td>0.007835</td>\n",
       "    </tr>\n",
       "    <tr>\n",
       "      <th>23</th>\n",
       "      <td>y</td>\n",
       "      <td>9</td>\n",
       "      <td>1111101</td>\n",
       "      <td>0.006410</td>\n",
       "    </tr>\n",
       "    <tr>\n",
       "      <th>24</th>\n",
       "      <td>x</td>\n",
       "      <td>7</td>\n",
       "      <td>11111100</td>\n",
       "      <td>0.004986</td>\n",
       "    </tr>\n",
       "    <tr>\n",
       "      <th>25</th>\n",
       "      <td>.</td>\n",
       "      <td>6</td>\n",
       "      <td>11111101</td>\n",
       "      <td>0.004274</td>\n",
       "    </tr>\n",
       "    <tr>\n",
       "      <th>26</th>\n",
       "      <td>)</td>\n",
       "      <td>3</td>\n",
       "      <td>111111100</td>\n",
       "      <td>0.002137</td>\n",
       "    </tr>\n",
       "    <tr>\n",
       "      <th>27</th>\n",
       "      <td>(</td>\n",
       "      <td>3</td>\n",
       "      <td>111111101</td>\n",
       "      <td>0.002137</td>\n",
       "    </tr>\n",
       "    <tr>\n",
       "      <th>28</th>\n",
       "      <td>z</td>\n",
       "      <td>3</td>\n",
       "      <td>111111110</td>\n",
       "      <td>0.002137</td>\n",
       "    </tr>\n",
       "    <tr>\n",
       "      <th>29</th>\n",
       "      <td>/</td>\n",
       "      <td>1</td>\n",
       "      <td>11111111100</td>\n",
       "      <td>0.000712</td>\n",
       "    </tr>\n",
       "    <tr>\n",
       "      <th>30</th>\n",
       "      <td>q</td>\n",
       "      <td>1</td>\n",
       "      <td>11111111101</td>\n",
       "      <td>0.000712</td>\n",
       "    </tr>\n",
       "    <tr>\n",
       "      <th>31</th>\n",
       "      <td>k</td>\n",
       "      <td>1</td>\n",
       "      <td>11111111110</td>\n",
       "      <td>0.000712</td>\n",
       "    </tr>\n",
       "    <tr>\n",
       "      <th>32</th>\n",
       "      <td>j</td>\n",
       "      <td>1</td>\n",
       "      <td>11111111111</td>\n",
       "      <td>0.000712</td>\n",
       "    </tr>\n",
       "  </tbody>\n",
       "</table>\n",
       "</div>"
      ],
      "text/plain": [
       "   symbol  frequency         code  probability\n",
       "0   space        189          000     0.134615\n",
       "1       e        146          001     0.103989\n",
       "2       t        101         0100     0.071937\n",
       "3       a        101         0101     0.071937\n",
       "4       n         90         0110     0.064103\n",
       "5       o         88         0111     0.062678\n",
       "6       i         85         1000     0.060541\n",
       "7       r         84         1001     0.059829\n",
       "8       s         79         1010     0.056268\n",
       "9       d         64        10110     0.045584\n",
       "10      l         59        10111     0.042023\n",
       "11      p         52        11000     0.037037\n",
       "12      c         37        11001     0.026353\n",
       "13      h         31        11010     0.022080\n",
       "14      m         30        11011     0.021368\n",
       "15      u         26       111000     0.018519\n",
       "16      g         20       111001     0.014245\n",
       "17      f         19       111010     0.013533\n",
       "18      b         17       111011     0.012108\n",
       "19      -         16       111100     0.011396\n",
       "20      v         13      1111010     0.009259\n",
       "21      ,         11      1111011     0.007835\n",
       "22      w         11      1111100     0.007835\n",
       "23      y          9      1111101     0.006410\n",
       "24      x          7     11111100     0.004986\n",
       "25      .          6     11111101     0.004274\n",
       "26      )          3    111111100     0.002137\n",
       "27      (          3    111111101     0.002137\n",
       "28      z          3    111111110     0.002137\n",
       "29      /          1  11111111100     0.000712\n",
       "30      q          1  11111111101     0.000712\n",
       "31      k          1  11111111110     0.000712\n",
       "32      j          1  11111111111     0.000712"
      ]
     },
     "execution_count": 290,
     "metadata": {},
     "output_type": "execute_result"
    }
   ],
   "source": [
    "df"
   ]
  },
  {
   "cell_type": "code",
   "execution_count": 291,
   "metadata": {},
   "outputs": [
    {
     "name": "stdout",
     "output_type": "stream",
     "text": [
      "the average code length for shanon fano code is 4.278490028490028\n",
      "the effciency of shanon fano encoder is 99.5\n"
     ]
    }
   ],
   "source": [
    "l_avg_shannon = 0\n",
    "for i in range(len(df)):\n",
    "    l_avg_shannon += df['probability'].iloc[i] * len(df['code'].iloc[i])\n",
    "print(f'the average code length for shanon fano code is {l_avg_shannon}')\n",
    "print(f'the effciency of shanon fano encoder is {round((entropy / l_avg_shannon)*100,2)}')"
   ]
  }
 ],
 "metadata": {
  "kernelspec": {
   "display_name": ".venv",
   "language": "python",
   "name": "python3"
  },
  "language_info": {
   "codemirror_mode": {
    "name": "ipython",
    "version": 3
   },
   "file_extension": ".py",
   "mimetype": "text/x-python",
   "name": "python",
   "nbconvert_exporter": "python",
   "pygments_lexer": "ipython3",
   "version": "3.12.5"
  }
 },
 "nbformat": 4,
 "nbformat_minor": 2
}
